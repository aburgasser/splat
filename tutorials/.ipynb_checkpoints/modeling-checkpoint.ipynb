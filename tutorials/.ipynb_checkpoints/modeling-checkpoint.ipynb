{
 "cells": [
  {
   "cell_type": "markdown",
   "metadata": {},
   "source": [
    "# SPLAT Tutorials: Atmosphere Models (splat.model)\n",
    "\n",
    "## Authors\n",
    "Adam Burgasser\n",
    "\n",
    "## Version date\n",
    "11 May 2024\n",
    "\n",
    "## Learning Goals\n",
    "* Explore the atmosphere models provide with the SPLAT package\n",
    "* Compare a spectrum to a spectral model \n",
    "* Compare a spectrum to a grid of models to determine a best fit\n",
    "* Compare a spectrum to a set of interpolated of models using MCMC methods\n",
    "\n",
    "## Keywords\n",
    "spectral analysis, spectral modeling, monte carlo methods\n",
    "\n",
    "## Companion Content\n",
    "None\n",
    "\n",
    "## Summary\n",
    "In this tutorial, you will see how to make use of SPLAT's atmosphere modeling package to both retrieve different model sets and to compare models to SPLAT data using both built-in routines and faster coded methods\n"
   ]
  },
  {
   "cell_type": "code",
   "execution_count": 1,
   "metadata": {},
   "outputs": [
    {
     "name": "stdout",
     "output_type": "stream",
     "text": [
      "\n",
      "\n",
      "Welcome to the Spex Prism Library Analysis Toolkit (SPLAT)!\n",
      "You are currently using version 2024.05.11\n",
      "\n",
      "If you make use of any features of this toolkit for your research, please remember to cite the SPLAT paper:\n",
      "\n",
      "Burgasser et al. (2017, Astro. Soc. India Conf. Series 14, p. 7); Bibcode: 2017ASInC..14....7B\n",
      "\n",
      "If you make use of any spectra or models in this toolkit, please remember to cite the original source.\n",
      "Please report any errors are feature requests to our github page, https://github.com/aburgasser/splat/\n",
      "\n",
      "\n"
     ]
    }
   ],
   "source": [
    "# main splat import\n",
    "import splat\n",
    "import splat.model as spmdl\n",
    "\n",
    "# other useful imports\n",
    "import matplotlib.pyplot as plt\n",
    "import numpy as np\n",
    "import pandas\n",
    "import astropy.units as u\n",
    "%matplotlib inline\n"
   ]
  },
  {
   "cell_type": "code",
   "execution_count": 2,
   "metadata": {},
   "outputs": [],
   "source": [
    "spmdl?"
   ]
  },
  {
   "cell_type": "markdown",
   "metadata": {},
   "source": [
    "# Using existing models in the SPLAT model package\n",
    "\n",
    "The SPLAT model package comes with a suite of existing atmosphere models, all sampled at the wavelength range (0.8-2.5 $\\mu$m) and resolution ($\\lambda/\\Delta\\lambda$ = 150) for the SpeX prism mode. Some models are also sampled to other instruments. The models currently delivered with SPLAT include:\n",
    "\n",
    "* **atmo** - ATMO2020 model set from Phillips et al. (2020) bibcode: TBD - SPEX-PRISM, JWST-NIRSPEC-PRISM\n",
    "* **btcond** - BT-Cond model set from Allard et al. (2012) bibcode: 2012RSPTA.370.2765A - SPEX-PRISM\n",
    "* **btdusty2016** - BT-Dusty model set from TBD - SPEX-PRISM\n",
    "* **btnextgen** - BT-NextGen model set from Allard et al. (2012) bibcode: 2012RSPTA.370.2765A - SPEX-PRISM\n",
    "* **btsettl08** - BT-Settled model set from Allard et al. (2012) bibcode: 2012RSPTA.370.2765A - SPEX-PRISM, JWST-NIRSPEC-PRISM\n",
    "* **btsettl15** - BT-Settled model set from Allard et al. (2015) bibcode: 2015A&A...577A..42B - SPEX-PRISM\n",
    "* **burrows06** - Model set from Burrows et al. (2006) bibcode: 2006ApJ...640.1063B - SPEX-PRISM\n",
    "* **cond01** - AMES Cond model set from Allard et al. (2001) bibcode: 2001ApJ...556..357A - SPEX-PRISM\n",
    "* **dback24** - Sonora Diamondback model set from Morley et al. (2024) bibcode: 2024arXiv240200758M - SPEX-PRISM, JWST-NIRSPEC-PRISM\n",
    "* **drift** - Drift model set from Witte et al. (2011) bibcode: 2011A&A...529A..44W - SPEX-PRISM\n",
    "* **dusty01** - AMES Dusty model set from Allard et al. (2001) bibcode: 2001ApJ...556..357A - SPEX-PRISM\n",
    "* **elfowl24** - Sonora Elfowl model set from Mukherjee et al. (2024) bibcode: 2024arXiv240200756M - SPEX-PRISM\n",
    "* **karalidi21** - Sonora Cholla model set from Karalidi et al. (2021) bibcode: 2021ApJ...923..269K - SPEX-PRISM, JWST-NIRSPEC-PRISM\n",
    "* **lowz** - LOWZ model set from Meisner et al. (2021) bibcode: 2021ApJ...915..120M - SPEX-PRISM, JWST-NIRSPEC-PRISM\n",
    "* **madhusudhan11** - Model set from Madhusudhan et al. (2011) bibcode: 2011ApJ...737...34M - SPEX-PRISM\n",
    "* **morley12** - Model set from Morley et al. (2012) bibcode: 2012ApJ...756..172M - SPEX-PRISM\n",
    "* **morley14** - Model set from Morley et al. (2014) bibcode: 2014ApJ...787...78M - SPEX-PRISM\n",
    "* **sand24** - SAND model set from Alvardo et al. (2024) bibcode: TBD - SPEX-PRISM, JWST-NIRSPEC-PRISM\n",
    "* **saumon12** - Model set from Saumon et al. (2012) bibcode: 2012ApJ...750...74S - SPEX-PRISM\n",
    "* **sonora18** - Sonora Alpha model set from Marley et al. (2018) bibcode: marley_mark_2018_1309035 - SPEX-PRISM\n",
    "* **sonora21** - Sonora Bobcat model set from Marley et al. (2021) bibcode: 2021ApJ...920...85M - SPEX-PRISM JWST-NIRSPEC-PRISM\n",
    "* **tremblin16** - Model set from Tremblin et al. (2016) bibcode: 2016ApJ...817L..19T - SPEX-PRISM\n",
    "* **veyette** - Model set from Veyette et al. (2017) bibcode: 2017arXiv171010259V - SPEX-PRISM\n",
    "        "
   ]
  },
  {
   "cell_type": "markdown",
   "metadata": {},
   "source": [
    "You can see what models are currently available, including parameter ranges and pre-computed instruments using the **info()** routine"
   ]
  },
  {
   "cell_type": "code",
   "execution_count": 3,
   "metadata": {
    "scrolled": false
   },
   "outputs": [
    {
     "name": "stdout",
     "output_type": "stream",
     "text": [
      "\n",
      "Model atmos:\n",
      "\tComputed for instruments JWST-NIRCAM-GRISM, JWST-NIRSPEC-PRISM, LRIS-SPEX, ORIGINAL, RAW, SED, SPEX-NIRI, SPEX-PRISM\n",
      "\tParameters:\n",
      "\t\tteff: 600.0 K to 2000.0 K\n",
      "\t\tlogg: 2.5 dex to 5.5 dex\n",
      "\t\tz: -0.0 dex\n",
      "\t\tcld: LC, RO \n",
      "\t\tkzz: CE, NE4, NE6, NE8 \n",
      "\t\tad: 1.0  to 1.1 \n",
      "\t\tbroad: A, B \n",
      "\t\tlogpmin: -8.0 dex to 0.0 dex\n",
      "\t\tlogpmax: 4.0 dex\n",
      "\n",
      "Model btcond:\n",
      "\tReference: Allard, F. et al. (2012, Philosophical Transactions of the Royal Society A, 370, 2765-2777)\n",
      "\tBibcode: 2012RSPTA.370.2765A\n",
      "\tComputed for instruments SED, SPEX-PRISM\n",
      "\tParameters:\n",
      "\t\tteff: 800.0 K to 4000.0 K\n",
      "\t\tlogg: 0.0 dex to 6.0 dex\n",
      "\t\tz: -4.0 dex to 0.5 dex\n",
      "\t\tenrich: -0.0 dex to 0.4 dex\n",
      "\n",
      "Model btdusty16:\n",
      "\tComputed for instruments CUSTOM, ORIGINAL, RAW, SPEX-PRISM\n",
      "\tParameters:\n",
      "\t\tteff: 1900.0 K to 3500.0 K\n",
      "\t\tlogg: 5.0 dex to 5.5 dex\n",
      "\t\tz: -2.5 dex to -1.0 dex\n",
      "\t\tenrich: 0.0 dex to 0.6 dex\n",
      "\n",
      "Model btnextgen:\n",
      "\tReference: Allard, F. et al. (2012, Philosophical Transactions of the Royal Society A, 370, 2765-2777)\n",
      "\tBibcode: 2012RSPTA.370.2765A\n",
      "\tComputed for instruments SED, SPEX-PRISM\n",
      "\tParameters:\n",
      "\t\tteff: 2600.0 K to 4000.0 K\n",
      "\t\tlogg: 0.0 dex to 6.0 dex\n",
      "\t\tz: -0.5 dex to 0.5 dex\n",
      "\t\tenrich: -0.0 dex to 0.2 dex\n",
      "\n",
      "Model btsettl08:\n",
      "\tReference: Allard, F. et al. (2012, Philosophical Transactions of the Royal Society A, 370, 2765-2777)\n",
      "\tBibcode: 2012RSPTA.370.2765A\n",
      "\tComputed for instruments JWST-NIRCAM-GRISM, JWST-NIRSPEC-PRISM, LRIS-RED, NIRES-O3, NIRES-O4, NIRES-O5, NIRES-O6, NIRES-O7, NIRSPEC-O33-RAW, RAW, SED, SPEX-PRISM, UVES-NA-RAW\n",
      "\tParameters:\n",
      "\t\tteff: 500.0 K to 3500.0 K\n",
      "\t\tlogg: 3.0 dex to 5.5 dex\n",
      "\t\tz: -2.5 dex to 0.5 dex\n",
      "\t\tenrich: -0.0 dex to 0.4 dex\n",
      "\n",
      "Model btsettl15:\n",
      "\tReference: Baraffe, I. et al. (2015, Astronomy & Astrophysics, 577, A42)\n",
      "\tBibcode: 2015A&A...577A..42B\n",
      "\tComputed for instruments LRIS-RED, SED, SPEX-PRISM\n",
      "\tParameters:\n",
      "\t\tteff: 1200.0 K to 4000.0 K\n",
      "\t\tlogg: 2.5 dex to 5.5 dex\n",
      "\t\tz: -0.0 dex\n",
      "\n",
      "Model burrows06:\n",
      "\tReference: Burrows, A. et al. (2006, Astrophysical Journal, 640, 1063-1077)\n",
      "\tBibcode: 2006ApJ...640.1063B\n",
      "\tComputed for instruments LRIS-RED, SED, SPEX-PRISM\n",
      "\tParameters:\n",
      "\t\tteff: 700.0 K to 2600.0 K\n",
      "\t\tlogg: 4.5 dex to 5.5 dex\n",
      "\t\tz: -0.5 dex to 0.5 dex\n",
      "\t\tcld: f100, nc \n",
      "\n",
      "Model cond01:\n",
      "\tReference: Allard, F. et al. (2001, Astrophysical Journal, 556, 357-372)\n",
      "\tBibcode: 2001ApJ...556..357A\n",
      "\tComputed for instruments SED, SPEX-PRISM\n",
      "\tParameters:\n",
      "\t\tteff: 100.0 K to 4000.0 K\n",
      "\t\tlogg: 2.5 dex to 6.0 dex\n",
      "\t\tz: -0.0 dex\n",
      "\n",
      "Model dback24:\n",
      "\tReference: \n",
      "\tBibcode: 2024arXiv240200758M\n",
      "\tComputed for instruments CUSTOM, JWST-NIRSPEC-PRISM, ORIGINAL, RAW, SPEX-PRISM\n",
      "\tParameters:\n",
      "\t\tteff: 900.0 K to 2400.0 K\n",
      "\t\tlogg: 3.49 dex to 5.5 dex\n",
      "\t\tz: -0.5 dex to 0.5 dex\n",
      "\t\tfsed: f1, f2, f3, f4, f8, nc \n",
      "\n",
      "Model drift:\n",
      "\tReference: Witte, S. et al. (2011, Astronomy & Astrophysics, 529, A44)\n",
      "\tBibcode: 2011A&A...529A..44W\n",
      "\tComputed for instruments SED, SPEX-PRISM\n",
      "\tParameters:\n",
      "\t\tteff: 1000.0 K to 3000.0 K\n",
      "\t\tlogg: 3.0 dex to 5.5 dex\n",
      "\t\tz: -0.6 dex to 0.3 dex\n",
      "\n",
      "Model dusty01:\n",
      "\tReference: Allard, F. et al. (2001, Astrophysical Journal, 556, 357-372)\n",
      "\tBibcode: 2001ApJ...556..357A\n",
      "\tComputed for instruments SED, SPEX-PRISM\n",
      "\tParameters:\n",
      "\t\tteff: 500.0 K to 3000.0 K\n",
      "\t\tlogg: 3.5 dex to 6.0 dex\n",
      "\t\tz: -0.0 dex\n",
      "\n",
      "Model elfowl24:\n",
      "\tReference: \n",
      "\tBibcode: 2024arXiv240200756M\n",
      "\tComputed for instruments CUSTOM, JWST-NIRSPEC-PRISM, ORIGINAL, RAW, SPEX-PRISM\n",
      "\tParameters:\n",
      "\t\tteff: 275.0 K to 2400.0 K\n",
      "\t\tlogg: 3.0 dex to 5.5 dex\n",
      "\t\tz: -1.0 dex to 1.0 dex\n",
      "\t\tkzz: 2.00, 4.00, 7.00, 8.00, 9.00 \n",
      "\t\tco: 0.5 dex to 2.5 dex\n",
      "\n",
      "Model gerasimov23:\n",
      "\tComputed for instruments CUSTOM, JWST-NIRCAM-GRISM, JWST-NIRSPEC-PRISM, ORIGINAL, RAW, SPEX-PRISM\n",
      "\tParameters:\n",
      "\t\tteff: 500.0 K to 5000.0 K\n",
      "\t\tlogg: 2.0 dex to 6.0 dex\n",
      "\t\tz: -1.5 dex to -0.5 dex\n",
      "\t\tenrich: 0.3 dex\n",
      "\n",
      "Model karalidi21:\n",
      "\tReference: \n",
      "\tBibcode: 2021ApJ...923..269K\n",
      "\tComputed for instruments CUSTOM, JWST-NIRCAM-GRISM, JWST-NIRSPEC-PRISM, ORIGINAL, RAW, SPEX-PRISM\n",
      "\tParameters:\n",
      "\t\tteff: 500.0 K to 1300.0 K\n",
      "\t\tlogg: 3.49 dex to 5.5 dex\n",
      "\t\tz: -0.0 dex\n",
      "\t\tkzz: 2, 4, 7 \n",
      "\n",
      "Model lacy23:\n",
      "\tReference: \n",
      "\tBibcode: 2021ApJ...915..120M\n",
      "\tComputed for instruments CUSTOM, JWST-NIRSPEC-PRISM, ORIGINAL, RAW, SPEX-PRISM\n",
      "\tParameters:\n",
      "\t\tteff: 200.0 K to 600.0 K\n",
      "\t\tlogg: 3.5 dex to 5.0 dex\n",
      "\t\tz: -0.5 dex to 0.5 dex\n",
      "\t\tcld: AEE10, E10, NC \n",
      "\t\tkzz: 0.00, 6.00 \n",
      "\n",
      "Model lowz:\n",
      "\tReference: \n",
      "\tBibcode: 2021ApJ...915..120M\n",
      "\tComputed for instruments CUSTOM, JWST-NIRCAM-GRISM, JWST-NIRSPEC-PRISM, RAW, SPEX-PRISM\n",
      "\tParameters:\n",
      "\t\tteff: 500.0 K to 1600.0 K\n",
      "\t\tlogg: 3.5 dex to 5.25 dex\n",
      "\t\tz: -2.5 dex to 1.0 dex\n",
      "\t\tkzz: -1.0, 10.0, 2.0 \n",
      "\t\tco: 0.1 dex to 0.85 dex\n",
      "\n",
      "Model madhusudhan11:\n",
      "\tReference: Madhusudhan, N. et al. (2011, Astrophysical Journal, 737, 34)\n",
      "\tBibcode: 2011ApJ...737...34M\n",
      "\tComputed for instruments SPEX-PRISM\n",
      "\tParameters:\n",
      "\t\tteff: 600.0 K to 1800.0 K\n",
      "\t\tlogg: 3.5 dex to 5.5 dex\n",
      "\t\tz: -0.0 dex to 1.0 dex\n",
      "\t\tfsed: eq, f0, f1, f2 \n",
      "\t\tcld: a, a1, a1-fe, a100, a60, a60-fe, ae30, ae60, aee60, e60, nc \n",
      "\t\tkzz: eq, k2, k4, k6 \n",
      "\n",
      "Model madusudhan:\n",
      "\tComputed for instruments SED\n",
      "\tParameters:\n",
      "Warning: instrument SPEX-PRISM not yet generated with SPLAT for model set madusudhan; using SED as default\n",
      "\t\tteff: 600.0 K to 1800.0 K\n",
      "\t\tlogg: 3.5 dex to 5.5 dex\n",
      "\t\tz: -0.0 dex to 1.0 dex\n",
      "\t\tfsed: eq, f0, f1, f2 \n",
      "\t\tcld: a, a1, a1-fe, a100, a60, a60-fe, ae30, ae60, aee60, e60, nc \n",
      "\t\tkzz: eq, k2, k4, k6 \n",
      "\n",
      "Model morley12:\n",
      "\tReference: Morley, C. V. et al. (2012, Astrophysical Journal, 756, 172)\n",
      "\tBibcode: 2012ApJ...756..172M\n",
      "\tComputed for instruments SED, SPEX-PRISM\n",
      "\tParameters:\n",
      "\t\tteff: 400.0 K to 1300.0 K\n",
      "\t\tlogg: 4.0 dex to 5.5 dex\n",
      "\t\tz: -0.0 dex\n",
      "\t\tfsed: f2, f3, f4, f5 \n",
      "\n",
      "Model morley14:\n",
      "\tReference: \n",
      "\tBibcode: 2014ApJ...787...78M\n",
      "\tComputed for instruments SED, SPEX-PRISM\n",
      "\tParameters:\n",
      "\t\tteff: 200.0 K to 450.0 K\n",
      "\t\tlogg: 3.0 dex to 5.0 dex\n",
      "\t\tz: -0.0 dex\n",
      "\t\tfsed: f3, f5, f7 \n",
      "\t\tcld: h20, h30, h40, h50, h60, h70, h80 \n",
      "\n",
      "Model sand24:\n",
      "\tComputed for instruments CUSTOM, JWST-NIRSPEC-PRISM, ORIGINAL, RAW, SPEX-PRISM\n",
      "\tParameters:\n",
      "\t\tteff: 700.0 K to 4000.0 K\n",
      "\t\tlogg: 2.0 dex to 6.0 dex\n",
      "\t\tz: -2.4 dex to 0.3 dex\n",
      "\t\tenrich: -0.05 dex to 0.4 dex\n",
      "\n",
      "Model saumon12:\n",
      "\tReference: Saumon, D. et al. (2012, Astrophysical Journal, 750, 74)\n",
      "\tBibcode: 2012ApJ...750...74S\n",
      "\tComputed for instruments SED, SPEX-PRISM\n",
      "\tParameters:\n",
      "\t\tteff: 400.0 K to 1500.0 K\n",
      "\t\tlogg: 3.0 dex to 5.5 dex\n",
      "\t\tz: -0.0 dex\n",
      "\n",
      "Model sonora18:\n",
      "\tReference: \n",
      "\tBibcode: marley_mark_2018_1309035\n",
      "\tComputed for instruments RAW, SED, SPEX-PRISM\n",
      "\tParameters:\n",
      "\t\tteff: 200.0 K to 2400.0 K\n",
      "\t\tlogg: 3.0 dex to 5.5 dex\n",
      "\t\tz: -0.0 dex\n",
      "\n",
      "Model sonora21:\n",
      "\tReference: \n",
      "\tBibcode: 2021ApJ...920...85M\n",
      "\tComputed for instruments CUSTOM, JWST-NIRCAM-GRISM, JWST-NIRSPEC-PRISM, ORIGINAL, RAW, SPEX-PRISM\n",
      "\tParameters:\n",
      "\t\tteff: 200.0 K to 2400.0 K\n",
      "\t\tlogg: 3.0 dex to 5.5 dex\n",
      "\t\tz: -0.5 dex to 0.5 dex\n",
      "\t\tco: 0.5 dex to 1.5 dex\n",
      "\n",
      "Model tremblin16:\n",
      "\tReference: \n",
      "\tBibcode: 2016ApJ...817L..19T\n",
      "\tComputed for instruments RAW, SED, SPEX-PRISM\n",
      "\tParameters:\n",
      "\t\tteff: 1200.0 K to 1400.0 K\n",
      "\t\tlogg: 4.0 dex to 5.0 dex\n",
      "\t\tz: -0.0 dex\n",
      "\t\tkzz: 6.0 \n",
      "\t\tad: 1.05  to 1.25 \n",
      "\n",
      "Model veyette:\n",
      "\tReference: \n",
      "\tBibcode: 2017arXiv171010259V\n",
      "\tComputed for instruments SED, SPEX-PRISM\n",
      "\tParameters:\n",
      "\t\tteff: 3000.0 K to 4200.0 K\n",
      "\t\tlogg: 4.53 dex to 5.28 dex\n",
      "\t\tz: -1.0 dex to 0.5 dex\n",
      "\t\tenrich: -0.1 dex to 0.4 dex\n",
      "\t\tzc: -0.2 dex to 0.35 dex\n",
      "\t\tzo: -0.2 dex to 0.89 dex\n"
     ]
    }
   ],
   "source": [
    "spmdl.info()"
   ]
  },
  {
   "cell_type": "markdown",
   "metadata": {},
   "source": [
    "You can also get information a specific model set by passing the name"
   ]
  },
  {
   "cell_type": "code",
   "execution_count": 5,
   "metadata": {},
   "outputs": [
    {
     "name": "stdout",
     "output_type": "stream",
     "text": [
      "\n",
      "Model burrows06:\n",
      "\tReference: Burrows, A. et al. (2006, Astrophysical Journal, 640, 1063-1077)\n",
      "\tBibcode: 2006ApJ...640.1063B\n",
      "\tComputed for instruments LRIS-RED, SED, SPEX-PRISM\n",
      "\tParameters:\n",
      "\t\tteff: 700.0 K to 2600.0 K\n",
      "\t\tlogg: 4.5 dex to 5.5 dex\n",
      "\t\tz: -0.5 dex to 0.5 dex\n",
      "\t\tcld: f100, nc \n",
      "\n",
      "No model named wrong-name is currently available\n"
     ]
    }
   ],
   "source": [
    "# this works\n",
    "spmdl.info('burrows06')\n",
    "\n",
    "# this tells you the model has the wrong name\n",
    "spmdl.info('wrong-name')\n"
   ]
  },
  {
   "cell_type": "markdown",
   "metadata": {},
   "source": [
    "# Adding your own models to SPLAT\n",
    "\n",
    "User models can be added to the SPLAT modeling suite by following these instructions:\n",
    "\n",
    "1. Create a model directory and subdirectory for your models, using the following convention:\n",
    "\n",
    "    /Users/adam/models           <-- model directory\n",
    "        /burgasser24             <-- subdirectory for this model set\n",
    "            /SPEX-PRISM          <-- subdirectory for burgasser24 models for SpeX prism (files are here)\n",
    "            /JWST-NIRSPEC-PRISM  <-- subdirectory for burgasser24 model for JWST NIRSPEC PRISM (files are here)\n",
    "        /experimental            <-- subdirectory for the model set\n",
    "            /SPEX-PRISM          <-- subdirectory for experimental models for SpeX prism (files are here)\n",
    "            /JWST-NIRSPEC-PRISM  <-- subdirectory for experimental models for JWST NIRSPEC PRISM (files are here)\n",
    "\n",
    "2. Make sure the file names conform to the format needed for reading in\n",
    "    * files can be .txt or .txt.gz\n",
    "    * two tab- or space-delimited columns containing:\n",
    "        * wavelength (assumed in microns)\n",
    "        * flux density in f_lambda units (assumed in erg/s/cm2/micron)\n",
    "    * file names should have the following notation with parameters separated by `_`:\n",
    "        * model name (same as model set folder name)\n",
    "        * model parameters using the following prefixes:\n",
    "            * t = temperature (in K)\n",
    "            * g = surface gravity (logg in cm/s2)\n",
    "            * z = metallicity (solar scaled log values)\n",
    "            : {'name': 'temperature', 'prefix': 't', 'unit': u.K, 'default': 1000.0, 'title': '$T_{eff}$ (K)', 'type': 'continuous'}, \\\n",
    "    'logg': {'name': 'gravity', 'prefix': 'g', 'unit': u.dex, 'default': 5.0, 'title': '$\\log{g}$ (cgs)', 'type': 'continuous'}, \\\n",
    "    'z': {'name': 'metallicity', 'prefix': 'z', 'unit': u.dex, 'default': 0., 'title': '$Z$', 'type': 'continuous'}, \\\n",
    "    'fsed': {'name': 'rainout', 'prefix': 'f', 'unit': u.m/u.m, 'default': 'nc', 'title': '$f_{sed}$', 'type': 'discrete'}, \\\n",
    "    'cld': {'name': 'cloud', 'prefix': 'cld', 'unit': u.m/u.m, 'default': 'nc', 'title': 'Cloud or Condensation Treatment', 'type': 'discrete'}, \\\n",
    "    'kzz': {'name': 'mixing', 'prefix': 'k', 'unit': u.m/u.m, 'default': 'eq', 'title': '$log\\ \\kappa_{zz}$ (cgs)', 'type': 'discrete'},\\\n",
    "    'ad': {'name': 'adiabat', 'prefix': 'ad', 'unit': u.m/u.m, 'default': 1., 'title': 'Adiabatic Index', 'type': 'continuous'},\\\n",
    "    'y': {'name': 'He abundance', 'prefix': 'y', 'unit': u.dex, 'default': 0.27, 'title': '$Y$', 'type': 'continuous'}, \\\n",
    "    'enrich': {'name': 'alpha enrichment', 'prefix': 'en', 'unit': u.dex, 'default': 0., 'title': 'Alpha Element Enrichment', 'type': 'continuous'},\\\n",
    "    'zc': {'name': 'C enrichment', 'prefix': 'ca', 'unit': u.dex, 'default': 0., 'title': 'Carbon Enrichment', 'type': 'continuous'},\\\n",
    "    'zo': {'name': 'O enrichment', 'prefix': 'ox', 'unit': u.dex, 'default': 0., 'title': 'Oxygen Enrichment', 'type': 'continuous'},\\\n",
    "    'zn': {'name': 'N enrichment', 'prefix': 'ni', 'unit': u.dex, 'default': 0., 'title': 'Nitrogen Enrichment', 'type': 'continuous'},\\\n",
    "    'co': {'name': 'C/O ratio', 'prefix': 'co', 'unit': u.dex, 'default': 0.54, 'title': 'C/O ratio', 'type': 'continuous'},\\\n",
    "    'broad': {'name': 'broadening', 'prefix': 'br', 'unit': u.m/u.m, 'default': 'A', 'title': 'Alkali Line Broadening Prescription', 'type': 'discrete'},\\\n",
    "    'logpmin': {'name': 'log pressure top', 'prefix': 'pt', 'unit': u.dex, 'default': -8., 'title': 'log Minimum Pressure (bar)', 'type': 'continuous'},\\\n",
    "    'logpmax': {'name': 'log pressure bottom', 'prefix': 'pb', 'unit': u.dex, 'default': 4., 'title': 'log Maximum Pressure (bar)', 'type': 'continuous'},\\\n",
    "    'radius': {'name': 'radius', 'prefix': 'rad', 'unit': u.Rsun, 'default': 0., 'title': 'Radius (R$_{\\odot}$)', 'type': 'continuous'},\\\n",
    "\n",
    "       \n",
    "        EXAMPLE: btsettl08_t500_g4.00_z-0.00_en-0.00_SPEX-PRISM.txt.gz\n",
    "        \n",
    "\n",
    "* Create the ascii file `.splat_spectral_models` in your home directory (note the period at the front of the name)\n",
    "* In this file, put the full path "
   ]
  },
  {
   "cell_type": "code",
   "execution_count": null,
   "metadata": {},
   "outputs": [],
   "source": [
    "# selecting by spectral type\n",
    "dp = splat.searchLibrary(spt='T5')\n",
    "dp"
   ]
  },
  {
   "cell_type": "code",
   "execution_count": null,
   "metadata": {},
   "outputs": [],
   "source": [
    "# selecting by spectral type range\n",
    "dp = splat.searchLibrary(spt=['L5','L8'])\n",
    "dp"
   ]
  },
  {
   "cell_type": "code",
   "execution_count": null,
   "metadata": {},
   "outputs": [],
   "source": [
    "# selecting by spectral type range and signal-to-noise (value given is minimum S/N)\n",
    "dp = splat.searchLibrary(spt=['L5','L8'],snr=50)\n",
    "dp"
   ]
  },
  {
   "cell_type": "code",
   "execution_count": null,
   "metadata": {},
   "outputs": [],
   "source": [
    "# selecting by OPTICAL spectral type range and signal-to-noise (value given is minimum S/N)\n",
    "dp = splat.searchLibrary(opt_spt=['L5','L8'],snr=50)\n",
    "dp"
   ]
  },
  {
   "cell_type": "code",
   "execution_count": null,
   "metadata": {},
   "outputs": [],
   "source": [
    "# select young L dwarfs\n",
    "dp = splat.searchLibrary(opt_spt=['L0','L9'],young=True)\n",
    "dp"
   ]
  },
  {
   "cell_type": "code",
   "execution_count": null,
   "metadata": {},
   "outputs": [],
   "source": [
    "# select metal-poor L dwarfs\n",
    "dp = splat.searchLibrary(opt_spt=['L0','L9'],subdwarf=True)\n",
    "dp"
   ]
  },
  {
   "cell_type": "code",
   "execution_count": null,
   "metadata": {},
   "outputs": [],
   "source": [
    "# select giants\n",
    "dp = splat.searchLibrary(giant=True)\n",
    "dp"
   ]
  },
  {
   "cell_type": "markdown",
   "metadata": {},
   "source": [
    "# Reading in the spectra\n",
    "\n",
    "Once you've identified the spectra you want, you can read them in based on the spreadsheet info or splat.getSpectrum(). Be sure you have a manageable list!"
   ]
  },
  {
   "cell_type": "code",
   "execution_count": null,
   "metadata": {},
   "outputs": [],
   "source": [
    "# select metal-poor L dwarfs\n",
    "# then read in using the data key\n",
    "dp = splat.searchLibrary(opt_spt=['L0','L9'],subdwarf=True)\n",
    "splist = []\n",
    "for i in dp['DATA_KEY']:\n",
    "    splist.append(splat.Spectrum(i))\n",
    "    print('Read in spectrum of {}'.format(splist[-1].name))\n",
    "splist"
   ]
  },
  {
   "cell_type": "code",
   "execution_count": null,
   "metadata": {},
   "outputs": [],
   "source": [
    "# do the same but read in by filename\n",
    "dp = splat.searchLibrary(opt_spt=['L0','L9'],subdwarf=True)\n",
    "splist = []\n",
    "for f in dp['DATA_FILE']:\n",
    "    splist.append(splat.Spectrum(file=f))\n",
    "    print('Read in spectrum of {}'.format(splist[-1].name))\n",
    "splist"
   ]
  },
  {
   "cell_type": "code",
   "execution_count": null,
   "metadata": {},
   "outputs": [],
   "source": [
    "# the same syntax can be used to read in a list of spectra using splat.getSpectrum()\n",
    "splist = splat.getSpectrum(opt_spt=['L0','L9'],subdwarf=True)\n",
    "splist"
   ]
  },
  {
   "cell_type": "markdown",
   "metadata": {},
   "source": [
    "# Measurements on samples of spectra\n",
    "\n",
    "We can add measurements to the pandas spreadsheet created by searchLibrary(), a convenient way to manage and save analyses"
   ]
  },
  {
   "cell_type": "code",
   "execution_count": null,
   "metadata": {},
   "outputs": [],
   "source": [
    "# let's measure the classifications of our sources\n",
    "dp = splat.searchLibrary(opt_spt=['L0','L9'],subdwarf=True)\n",
    "dp['SPEX_SPT'] = ['']*len(dp)\n",
    "# note the use of enumerate here\n",
    "for i,f in enumerate(dp['DATA_FILE']):\n",
    "    sp = splat.Spectrum(file=f)\n",
    "    spt,spt_e = splat.classifyByStandard(sp,method='kirkpatrick')\n",
    "    dp['SPEX_SPT'].iloc[i] = spt\n",
    "dp['SPEX_SPT']"
   ]
  },
  {
   "cell_type": "code",
   "execution_count": null,
   "metadata": {},
   "outputs": [],
   "source": [
    "# another way of doing this\n",
    "dp = splat.searchLibrary(opt_spt=['L0','L9'],subdwarf=True)\n",
    "spts = []\n",
    "# note the use of enumerate here\n",
    "for i,f in enumerate(dp['DATA_FILE']):\n",
    "    sp = splat.Spectrum(file=f)\n",
    "    spts.append(splat.classifyByStandard(sp,method='kirkpatrick')[0])\n",
    "dp['SPEX_SPT'] = spts\n",
    "dp['SPEX_SPT']"
   ]
  },
  {
   "cell_type": "code",
   "execution_count": null,
   "metadata": {},
   "outputs": [],
   "source": [
    "# here's how you can measure many indices on the spectra and store them to your pandas dataframe\n",
    "dp = splat.searchLibrary(opt_spt=['L0','L9'],subdwarf=True)\n",
    "\n",
    "# first figure out what indices we're measuring\n",
    "# the names of the indices are in the keys\n",
    "sp = splat.Spectrum(file=dp['DATA_FILE'].iloc[0])\n",
    "ind = splat.measureIndexSet(sp)\n",
    "indices = ind.keys()\n",
    "\n",
    "# add these to the dataframe\n",
    "for i in indices: dp[i] = np.zeros(len(dp))\n",
    "    \n",
    "# now measure all of the spectra\n",
    "for i,f in enumerate(dp['DATA_FILE']):\n",
    "    sp = splat.Spectrum(file=f)\n",
    "    ind = splat.measureIndexSet(sp)\n",
    "    for indname in indices: dp[indname].iloc[i]=ind[indname][0]\n",
    "\n",
    "# print out the values you've measureed\n",
    "dp[indices]\n"
   ]
  },
  {
   "cell_type": "markdown",
   "metadata": {},
   "source": [
    "# Plotting batches of spectra\n",
    "\n",
    "Here's some examples of plotting samples of spectra using either plotSpectrum() or plotBatch(); you can see more examples at this page: https://spl-toolkit.readthedocs.io/en/latest/splat_plot/ "
   ]
  },
  {
   "cell_type": "code",
   "execution_count": null,
   "metadata": {},
   "outputs": [],
   "source": [
    "# learn more about these functions\n",
    "splot.plotSpectrum?"
   ]
  },
  {
   "cell_type": "code",
   "execution_count": null,
   "metadata": {},
   "outputs": [],
   "source": [
    "# learn more about these functions\n",
    "splot.plotBatch?"
   ]
  },
  {
   "cell_type": "code",
   "execution_count": null,
   "metadata": {},
   "outputs": [],
   "source": [
    "# read in batch of spectra\n",
    "splist = splat.getSpectrum(opt_spt=['L0','L9'],subdwarf=True)"
   ]
  },
  {
   "cell_type": "code",
   "execution_count": null,
   "metadata": {},
   "outputs": [],
   "source": [
    "# now plot them all using plotSpectrum with the multiplot option\n",
    "splot.plotSpectrum(splist,multiplot=True)"
   ]
  },
  {
   "cell_type": "code",
   "execution_count": null,
   "metadata": {},
   "outputs": [],
   "source": [
    "# let's clean this up a bit by making a 2x2 grid\n",
    "splot.plotSpectrum(splist,multiplot=True,layout=[2,2])"
   ]
  },
  {
   "cell_type": "code",
   "execution_count": null,
   "metadata": {},
   "outputs": [],
   "source": [
    "# the normalization is not so great here, so lets first normalize the spectra in a certain range\n",
    "# and then set the y-axis range\n",
    "for sp in splist: sp.normalize([0.9,1.4])\n",
    "splot.plotSpectrum(splist,multiplot=True,layout=[2,2],yrange=[-0.05,1.2])"
   ]
  },
  {
   "cell_type": "code",
   "execution_count": null,
   "metadata": {},
   "outputs": [],
   "source": [
    "# now let's add some details, including the legend giving the name of the source\n",
    "# and labeling L dwarf features; we'll also save this out as a multi-page pdf file\n",
    "names = [sp.name for sp in splist]\n",
    "splot.plotSpectrum(splist,multiplot=True,layout=[2,2],yrange=[-0.05,1.2],legend=names,features=['h2o','feh','co'],telluric=True,grid=True,multipage=True,file='myplot.pdf')\n"
   ]
  },
  {
   "cell_type": "code",
   "execution_count": null,
   "metadata": {},
   "outputs": [],
   "source": [
    "# plotBatch does many of these tasks in a compact way; here's the baseline call\n",
    "splot.plotBatch(splist)\n"
   ]
  },
  {
   "cell_type": "code",
   "execution_count": null,
   "metadata": {},
   "outputs": [],
   "source": [
    "# now with the same options as before\n",
    "# NOTE: ignore the warning messages here\n",
    "splot.plotBatch(splist,features=['h2o','feh','co'],telluric=True,grid=True,yrange=[-0.05,1.2],output='myplot.pdf')\n"
   ]
  },
  {
   "cell_type": "code",
   "execution_count": null,
   "metadata": {},
   "outputs": [],
   "source": [
    "# plotBatch has a nice feature in that it can automatically classify spectra\n",
    "# NOTE: the scaling on this doesn't seem to be working properly right now!\n",
    "splot.plotBatch(splist,classify=True,normalize=True)\n"
   ]
  },
  {
   "cell_type": "code",
   "execution_count": null,
   "metadata": {},
   "outputs": [],
   "source": [
    "# here's an example of comparing all of our sources to one particular comparison source, the sdL0.0 standard\n",
    "# The subdwarf standards are contained in the splat.STDS_SD_SPEX variable\n",
    "splat.initializeStandards(all=True)\n",
    "comptype = 'sdL0.0'\n",
    "spcomp = splat.STDS_SD_SPEX[comptype]\n",
    "spcomp.normalize([0.9,1.4])\n",
    "names = ['{} vs {}'.format(sp.name,comptype) for sp in splist]\n",
    "\n",
    "splot.plotSpectrum(splist,multiplot=True,layout=[2,2],yrange=[-0.05,1.2],legend=names,comparison=spcomp,colorComparison='r')\n"
   ]
  }
 ],
 "metadata": {
  "kernelspec": {
   "display_name": "Python 3 (ipykernel)",
   "language": "python",
   "name": "python3"
  },
  "language_info": {
   "codemirror_mode": {
    "name": "ipython",
    "version": 3
   },
   "file_extension": ".py",
   "mimetype": "text/x-python",
   "name": "python",
   "nbconvert_exporter": "python",
   "pygments_lexer": "ipython3",
   "version": "3.9.7"
  }
 },
 "nbformat": 4,
 "nbformat_minor": 2
}
